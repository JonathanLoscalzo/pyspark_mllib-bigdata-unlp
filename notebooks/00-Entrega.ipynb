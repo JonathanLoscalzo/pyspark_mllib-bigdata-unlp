{
 "cells": [
  {
   "cell_type": "markdown",
   "metadata": {},
   "source": [
    "# Final Big Data\n",
    "\n",
    "La intención de esta notebook es mostrar un poco las características de Spark a la hora de realizar Machine Learning gracias a su librería integrada.\n",
    "\n",
    "### Pyspark con MlLib\n",
    "Vamos a utilizar las utilidades que provee spark para realizar un proceso completo para un entrenamiento de un modelo, tuning y evaluación de un set de datos. \n",
    "\n",
    "### Forma de utilizarlo\n",
    "Se va a correr spark dentro de contenedor de docker, y a su vez dentro de notebook de jupyter. \n",
    "Hay otros enfoques como utilizar [Apache Toree](https://toree.apache.org/) (para scala) u otras notebooks como [Apache Zeppelin](https://zeppelin.apache.org/).\n",
    "\n",
    "Otra forma que si probé, es utilizar Google Colab: \n",
    "\n",
    "```\n",
    "!apt-get install openjdk-8-jdk-headless -qq > /dev/null\n",
    "!wget -q http://www-eu.apache.org/dist/spark/spark-2.4.0/spark-2.4.0-bin-hadoop2.7.tgz\n",
    "!tar xf spark-2.4.0-bin-hadoop2.7.tgz\n",
    "!pip install -q findspark\n",
    "!pip install pyspark\n",
    "\n",
    "import os\n",
    "os.environ[\"JAVA_HOME\"] = \"/usr/lib/jvm/java-8-openjdk-amd64\"\n",
    "os.environ[\"SPARK_HOME\"] = \"/content/spark-2.4.0-bin-hadoop2.7\"\n",
    "\n",
    "import findspark\n",
    "findspark.init()\n",
    "\n",
    "```\n",
    "\n",
    "Lo cual puede ser sencillo a la hora de hacer pruebas. (ver versiones y links). \n",
    "\n",
    "Las instrucciones para correr el contenedor se encontrarán en el archivo de README."
   ]
  },
  {
   "cell_type": "markdown",
   "metadata": {},
   "source": [
    "## Dataset\n",
    "En la carpeta datasets podremos encontrar el 'heart.csv', el cual vamos a utilizar para predecir si una persona está o no enferma.\n",
    "\n",
    "Columnas: \n",
    "- age: age in years\n",
    "- sex: (1 = male; 0 = female)\n",
    "- cp: chest pain type\n",
    "-- Value 0: asymptomatic\n",
    "-- Value 1: atypical angina\n",
    "-- Value 2: non-anginal pain\n",
    "-- Value 3: typical angina\n",
    "- trestbps: resting blood pressure (in mm Hg on admission to the hospital)\n",
    "- chol: serum cholestoral in mg/dl\n",
    "- fbs: (fasting blood sugar > 120 mg/dl) (1 = true; 0 = false)\n",
    "- restecg: resting electrocardiographic results\n",
    "-- Value 0: showing probable or definite left ventricular hypertrophy by Estes' criteria\n",
    "-- Value 1: normal\n",
    "-- Value 2: having ST-T wave abnormality\n",
    "- thalach: maximum heart rate achieved\n",
    "- exang: exercise induced angina (1 = yes; 0 = no)\n",
    "- oldpeak: ST depression induced by exercise relative to rest\n",
    "- slope: the slope of the peak exercise ST segment. 0: downsloping; 1: flat; 2: upsloping\n",
    "- ca: number of major vessels (0-3) colored by flourosopy\n",
    "- thal:\n",
    "-- 1 = fixed defect;\n",
    "-- 2 = normal; \n",
    "-- 7 = reversable defect\n",
    "- target: 1 or 0\n",
    "\n",
    "\n",
    "Lo que vamos a intentar *predecir* es la columna \"target\". \n",
    "El valor verdadero es 1 que indica \"disease\" o \"enfermo\".\n",
    "\n",
    "Mayor información [aquí](https://www.kaggle.com/ronitf/heart-disease-uci)\n",
    "\n",
    "# URL's\n",
    "Urls que nos pueden llegar a servir para verificar spark: \n",
    "- http://localhost:4040/jobs/\n",
    "- http://localhost:8080/ "
   ]
  },
  {
   "cell_type": "code",
   "execution_count": 58,
   "metadata": {},
   "outputs": [],
   "source": [
    "# esta librería nos permite utilizar spark dentro de las notebooks facilmente\n",
    "import findspark\n",
    "findspark.init()"
   ]
  },
  {
   "cell_type": "code",
   "execution_count": 59,
   "metadata": {},
   "outputs": [],
   "source": [
    "from pyspark import SparkContext\n",
    "from pyspark.sql import SparkSession\n",
    "\n",
    "from pyspark.ml.feature import QuantileDiscretizer\n",
    "from pyspark.sql.functions import log, isnan, isnull, when, udf\n",
    "from pyspark.sql.types import FloatType\n",
    "\n",
    "import seaborn as sns\n",
    "import matplotlib.pyplot as plt\n",
    "import numpy as np\n",
    "import pandas as pd\n",
    "\n",
    "%matplotlib inline"
   ]
  },
  {
   "cell_type": "code",
   "execution_count": null,
   "metadata": {},
   "outputs": [],
   "source": [
    "# SparkContext podemos crear uno solo\n",
    "sc = SparkContext(master = 'local[2]')"
   ]
  },
  {
   "cell_type": "code",
   "execution_count": 61,
   "metadata": {},
   "outputs": [],
   "source": [
    "# SparkContext almacena una sesion (por eso hacemos getOrCreate)\n",
    "spark = (SparkSession \n",
    "    .builder \n",
    "    .master(\"local[2]\")\n",
    "    .appName(\"Utilizando Mllib\") \n",
    "    .getOrCreate())"
   ]
  },
  {
   "cell_type": "code",
   "execution_count": 62,
   "metadata": {},
   "outputs": [],
   "source": [
    "df = spark.read.csv('datasets/heart.csv', header=True)"
   ]
  },
  {
   "cell_type": "code",
   "execution_count": 63,
   "metadata": {},
   "outputs": [
    {
     "name": "stdout",
     "output_type": "stream",
     "text": [
      "+---+---+---+--------+----+---+-------+-------+-----+-------+-----+---+----+------+\n",
      "|age|sex| cp|trestbps|chol|fbs|restecg|thalach|exang|oldpeak|slope| ca|thal|target|\n",
      "+---+---+---+--------+----+---+-------+-------+-----+-------+-----+---+----+------+\n",
      "| 63|  1|  3|     145| 233|  1|      0|    150|    0|    2.3|    0|  0|   1|     1|\n",
      "| 37|  1|  2|     130| 250|  0|      1|    187|    0|    3.5|    0|  0|   2|     1|\n",
      "| 41|  0|  1|     130| 204|  0|      0|    172|    0|    1.4|    2|  0|   2|     1|\n",
      "| 56|  1|  1|     120| 236|  0|      1|    178|    0|    0.8|    2|  0|   2|     1|\n",
      "| 57|  0|  0|     120| 354|  0|      1|    163|    1|    0.6|    2|  0|   2|     1|\n",
      "| 57|  1|  0|     140| 192|  0|      1|    148|    0|    0.4|    1|  0|   1|     1|\n",
      "| 56|  0|  1|     140| 294|  0|      0|    153|    0|    1.3|    1|  0|   2|     1|\n",
      "| 44|  1|  1|     120| 263|  0|      1|    173|    0|      0|    2|  0|   3|     1|\n",
      "| 52|  1|  2|     172| 199|  1|      1|    162|    0|    0.5|    2|  0|   3|     1|\n",
      "| 57|  1|  2|     150| 168|  0|      1|    174|    0|    1.6|    2|  0|   2|     1|\n",
      "| 54|  1|  0|     140| 239|  0|      1|    160|    0|    1.2|    2|  0|   2|     1|\n",
      "| 48|  0|  2|     130| 275|  0|      1|    139|    0|    0.2|    2|  0|   2|     1|\n",
      "| 49|  1|  1|     130| 266|  0|      1|    171|    0|    0.6|    2|  0|   2|     1|\n",
      "| 64|  1|  3|     110| 211|  0|      0|    144|    1|    1.8|    1|  0|   2|     1|\n",
      "| 58|  0|  3|     150| 283|  1|      0|    162|    0|      1|    2|  0|   2|     1|\n",
      "| 50|  0|  2|     120| 219|  0|      1|    158|    0|    1.6|    1|  0|   2|     1|\n",
      "| 58|  0|  2|     120| 340|  0|      1|    172|    0|      0|    2|  0|   2|     1|\n",
      "| 66|  0|  3|     150| 226|  0|      1|    114|    0|    2.6|    0|  0|   2|     1|\n",
      "| 43|  1|  0|     150| 247|  0|      1|    171|    0|    1.5|    2|  0|   2|     1|\n",
      "| 69|  0|  3|     140| 239|  0|      1|    151|    0|    1.8|    2|  2|   2|     1|\n",
      "+---+---+---+--------+----+---+-------+-------+-----+-------+-----+---+----+------+\n",
      "only showing top 20 rows\n",
      "\n"
     ]
    }
   ],
   "source": [
    "# visualizamos nuestros datos\n",
    "df.show()"
   ]
  },
  {
   "cell_type": "code",
   "execution_count": 64,
   "metadata": {},
   "outputs": [
    {
     "name": "stdout",
     "output_type": "stream",
     "text": [
      "Nuestro dataset tiene: 303 elementos\n",
      "De los cuales: 165 representan enfermos\n",
      "Y : 138 representan sanos\n"
     ]
    }
   ],
   "source": [
    "print(\"Nuestro dataset tiene: {} elementos\".format(df.count()))\n",
    "print(\"De los cuales: {} representan enfermos\".format(df.filter(df.target == 1).count()))\n",
    "print(\"Y : {} representan sanos\".format(df.filter(df.target == 0).count()))"
   ]
  },
  {
   "cell_type": "code",
   "execution_count": 65,
   "metadata": {},
   "outputs": [
    {
     "name": "stdout",
     "output_type": "stream",
     "text": [
      "Columna age - 0 null\n",
      "Columna sex - 0 null\n",
      "Columna cp - 0 null\n",
      "Columna trestbps - 0 null\n",
      "Columna chol - 0 null\n",
      "Columna fbs - 0 null\n",
      "Columna restecg - 0 null\n",
      "Columna thalach - 0 null\n",
      "Columna exang - 0 null\n",
      "Columna oldpeak - 0 null\n",
      "Columna slope - 0 null\n",
      "Columna ca - 0 null\n",
      "Columna thal - 0 null\n",
      "Columna target - 0 null\n"
     ]
    }
   ],
   "source": [
    "# Verificamos si hay missing values en las columnas\n",
    "for c in df.columns: \n",
    "    hasNulls = df.filter(df[c].isNull()).count()\n",
    "    print(\"Columna {} - {} null\".format(c, hasNulls))"
   ]
  },
  {
   "cell_type": "code",
   "execution_count": 66,
   "metadata": {},
   "outputs": [
    {
     "name": "stdout",
     "output_type": "stream",
     "text": [
      "antes [('age', 'string'), ('sex', 'string'), ('cp', 'string'), ('trestbps', 'string'), ('chol', 'string'), ('fbs', 'string'), ('restecg', 'string'), ('thalach', 'string'), ('exang', 'string'), ('oldpeak', 'string'), ('slope', 'string'), ('ca', 'string'), ('thal', 'string'), ('target', 'string')]\n",
      "=======================\n",
      "antes [('age', 'int'), ('sex', 'int'), ('cp', 'int'), ('trestbps', 'int'), ('chol', 'int'), ('fbs', 'int'), ('restecg', 'int'), ('thalach', 'int'), ('exang', 'int'), ('oldpeak', 'float'), ('slope', 'int'), ('ca', 'int'), ('thal', 'int'), ('target', 'int')]\n"
     ]
    }
   ],
   "source": [
    "#Revisamos el tipo de columnas, son todas strings! y deberían ser númericas\n",
    "print(\"antes {}\".format(df.dtypes))\n",
    "for c in df.columns:\n",
    "    if (dict(df.dtypes)[c] == 'string'):\n",
    "        if (c == 'oldpeak'):\n",
    "            df = df.withColumn(c, df[c].cast('float'))\n",
    "        else:\n",
    "            df = df.withColumn(c, df[c].cast('integer'))\n",
    "print(\"=======================\")\n",
    "print(\"antes {}\".format(df.dtypes))"
   ]
  },
  {
   "cell_type": "code",
   "execution_count": 67,
   "metadata": {},
   "outputs": [
    {
     "data": {
      "text/html": [
       "<div>\n",
       "<style scoped>\n",
       "    .dataframe tbody tr th:only-of-type {\n",
       "        vertical-align: middle;\n",
       "    }\n",
       "\n",
       "    .dataframe tbody tr th {\n",
       "        vertical-align: top;\n",
       "    }\n",
       "\n",
       "    .dataframe thead th {\n",
       "        text-align: right;\n",
       "    }\n",
       "</style>\n",
       "<table border=\"1\" class=\"dataframe\">\n",
       "  <thead>\n",
       "    <tr style=\"text-align: right;\">\n",
       "      <th></th>\n",
       "      <th>0</th>\n",
       "      <th>1</th>\n",
       "      <th>2</th>\n",
       "      <th>3</th>\n",
       "      <th>4</th>\n",
       "    </tr>\n",
       "  </thead>\n",
       "  <tbody>\n",
       "    <tr>\n",
       "      <td>summary</td>\n",
       "      <td>count</td>\n",
       "      <td>mean</td>\n",
       "      <td>stddev</td>\n",
       "      <td>min</td>\n",
       "      <td>max</td>\n",
       "    </tr>\n",
       "    <tr>\n",
       "      <td>age</td>\n",
       "      <td>303</td>\n",
       "      <td>54.366336633663366</td>\n",
       "      <td>9.08210098983786</td>\n",
       "      <td>29</td>\n",
       "      <td>77</td>\n",
       "    </tr>\n",
       "    <tr>\n",
       "      <td>sex</td>\n",
       "      <td>303</td>\n",
       "      <td>0.6831683168316832</td>\n",
       "      <td>0.46601082333962385</td>\n",
       "      <td>0</td>\n",
       "      <td>1</td>\n",
       "    </tr>\n",
       "    <tr>\n",
       "      <td>cp</td>\n",
       "      <td>303</td>\n",
       "      <td>0.966996699669967</td>\n",
       "      <td>1.0320524894832983</td>\n",
       "      <td>0</td>\n",
       "      <td>3</td>\n",
       "    </tr>\n",
       "    <tr>\n",
       "      <td>trestbps</td>\n",
       "      <td>303</td>\n",
       "      <td>131.62376237623764</td>\n",
       "      <td>17.5381428135171</td>\n",
       "      <td>94</td>\n",
       "      <td>200</td>\n",
       "    </tr>\n",
       "    <tr>\n",
       "      <td>chol</td>\n",
       "      <td>303</td>\n",
       "      <td>246.26402640264027</td>\n",
       "      <td>51.83075098793005</td>\n",
       "      <td>126</td>\n",
       "      <td>564</td>\n",
       "    </tr>\n",
       "    <tr>\n",
       "      <td>fbs</td>\n",
       "      <td>303</td>\n",
       "      <td>0.1485148514851485</td>\n",
       "      <td>0.35619787492797644</td>\n",
       "      <td>0</td>\n",
       "      <td>1</td>\n",
       "    </tr>\n",
       "    <tr>\n",
       "      <td>restecg</td>\n",
       "      <td>303</td>\n",
       "      <td>0.528052805280528</td>\n",
       "      <td>0.525859596359298</td>\n",
       "      <td>0</td>\n",
       "      <td>2</td>\n",
       "    </tr>\n",
       "    <tr>\n",
       "      <td>thalach</td>\n",
       "      <td>303</td>\n",
       "      <td>149.64686468646866</td>\n",
       "      <td>22.90516111491409</td>\n",
       "      <td>71</td>\n",
       "      <td>202</td>\n",
       "    </tr>\n",
       "    <tr>\n",
       "      <td>exang</td>\n",
       "      <td>303</td>\n",
       "      <td>0.32673267326732675</td>\n",
       "      <td>0.46979446452231655</td>\n",
       "      <td>0</td>\n",
       "      <td>1</td>\n",
       "    </tr>\n",
       "    <tr>\n",
       "      <td>oldpeak</td>\n",
       "      <td>303</td>\n",
       "      <td>1.0396039587977302</td>\n",
       "      <td>1.1610750102689427</td>\n",
       "      <td>0.0</td>\n",
       "      <td>6.2</td>\n",
       "    </tr>\n",
       "    <tr>\n",
       "      <td>slope</td>\n",
       "      <td>303</td>\n",
       "      <td>1.3993399339933994</td>\n",
       "      <td>0.6162261453459622</td>\n",
       "      <td>0</td>\n",
       "      <td>2</td>\n",
       "    </tr>\n",
       "    <tr>\n",
       "      <td>ca</td>\n",
       "      <td>303</td>\n",
       "      <td>0.7293729372937293</td>\n",
       "      <td>1.0226063649693276</td>\n",
       "      <td>0</td>\n",
       "      <td>4</td>\n",
       "    </tr>\n",
       "    <tr>\n",
       "      <td>thal</td>\n",
       "      <td>303</td>\n",
       "      <td>2.3135313531353137</td>\n",
       "      <td>0.6122765072781408</td>\n",
       "      <td>0</td>\n",
       "      <td>3</td>\n",
       "    </tr>\n",
       "    <tr>\n",
       "      <td>target</td>\n",
       "      <td>303</td>\n",
       "      <td>0.5445544554455446</td>\n",
       "      <td>0.4988347841643915</td>\n",
       "      <td>0</td>\n",
       "      <td>1</td>\n",
       "    </tr>\n",
       "  </tbody>\n",
       "</table>\n",
       "</div>"
      ],
      "text/plain": [
       "              0                    1                    2    3    4\n",
       "summary   count                 mean               stddev  min  max\n",
       "age         303   54.366336633663366     9.08210098983786   29   77\n",
       "sex         303   0.6831683168316832  0.46601082333962385    0    1\n",
       "cp          303    0.966996699669967   1.0320524894832983    0    3\n",
       "trestbps    303   131.62376237623764     17.5381428135171   94  200\n",
       "chol        303   246.26402640264027    51.83075098793005  126  564\n",
       "fbs         303   0.1485148514851485  0.35619787492797644    0    1\n",
       "restecg     303    0.528052805280528    0.525859596359298    0    2\n",
       "thalach     303   149.64686468646866    22.90516111491409   71  202\n",
       "exang       303  0.32673267326732675  0.46979446452231655    0    1\n",
       "oldpeak     303   1.0396039587977302   1.1610750102689427  0.0  6.2\n",
       "slope       303   1.3993399339933994   0.6162261453459622    0    2\n",
       "ca          303   0.7293729372937293   1.0226063649693276    0    4\n",
       "thal        303   2.3135313531353137   0.6122765072781408    0    3\n",
       "target      303   0.5445544554455446   0.4988347841643915    0    1"
      ]
     },
     "execution_count": 67,
     "metadata": {},
     "output_type": "execute_result"
    }
   ],
   "source": [
    "# Retornamos stats básicos para todas las columnas (lo ponemos en pandas para que se vea bien)\n",
    "df.describe().toPandas().T"
   ]
  },
  {
   "cell_type": "code",
   "execution_count": 68,
   "metadata": {},
   "outputs": [
    {
     "data": {
      "image/png": "[encoded data removed]",
      "text/plain": [
       "<Figure size 1080x2880 with 8 Axes>"
      ]
     },
     "metadata": {
      "needs_background": "light"
     },
     "output_type": "display_data"
    }
   ],
   "source": [
    "# Discretizamos las columnas para graficar histogram y density plot\n",
    "\n",
    "\n",
    "columns = [\"sex\",\"cp\", \"fbs\", \"restecg\", \"exang\", \"slope\", \"ca\", \"thal\", \"target\"]\n",
    "fig, axes = plt.subplots(len(columns)//2, 2, figsize=(15,40))\n",
    "\n",
    "for c, ax in zip(columns, np.array(axes).flatten()):\n",
    "    discretizer = QuantileDiscretizer(numBuckets=10, inputCol=c, outputCol=\"result\")\n",
    "    result = discretizer.fit(df).transform(df)\n",
    "    result = result.groupby('result').count().toPandas()\n",
    "    ax.set_title(c)\n",
    "    sns.barplot(x='result',y='count', data=result, ax=ax)\n"
   ]
  },
  {
   "cell_type": "code",
   "execution_count": 69,
   "metadata": {},
   "outputs": [
    {
     "data": {
      "image/png": "[encoded data removed]",
      "text/plain": [
       "<Figure size 1080x1080 with 4 Axes>"
      ]
     },
     "metadata": {
      "needs_background": "light"
     },
     "output_type": "display_data"
    }
   ],
   "source": [
    "# para ver un gráfico un poco mejor con hist y kde\n",
    "columns = [\"age\", \"trestbps\", \"chol\", \"thalach\", \"oldpeak\"]\n",
    "fig, axes = plt.subplots(len(columns)//2, 2, figsize=(15,15))\n",
    "\n",
    "for c, ax in zip(columns, np.array(axes).flatten()):\n",
    "    d = df.select(c).toPandas()\n",
    "    ax.set_title(c)\n",
    "    sns.distplot(d, ax=ax)"
   ]
  },
  {
   "cell_type": "markdown",
   "metadata": {},
   "source": [
    "Como conclusión al analisis exploratorio vemos que: \n",
    "- se comportan como categoricas: sex,cp, fbc, resteg, exang, slope, ca, thal\n",
    "- age, trestbps, chol, thalach oldpeak son distribuciones que podriamos modificar para que se comporten como normales ( aplicar logaritmo, ....)"
   ]
  },
  {
   "cell_type": "markdown",
   "metadata": {},
   "source": [
    "## Feature Engineering\n",
    "En pyspark tenemos las utilidades de mllib, que nos permiten crear un pipeline de Machine Learning. El mismo estará compuesto por:\n",
    "- Transformers: Es una función que transforman Dataframe en otro Dataframe. Implementa la función transform()\n",
    "- Estimators: Amplía el concepto de un algoritmo que aprende. Implementa el método fit(). Recibe un DataFrame y retorna un Transformer.\n",
    "\n",
    "Un Pipeline es una secuencia de Transformers y Estimators, nos permite ejecutar nuestro flujo de trabajo repetidamente.\n",
    "\n",
    "Vamos a realizar un pipeline para transformar las variables categóricas en one-hot encoding, normalizar las columnas númericas. Se agrupará todos estos cambios en una función `transform`"
   ]
  },
  {
   "cell_type": "code",
   "execution_count": 70,
   "metadata": {},
   "outputs": [],
   "source": [
    "from pyspark.ml import Pipeline\n",
    "from pyspark.ml.feature import StandardScaler, VectorAssembler"
   ]
  },
  {
   "cell_type": "code",
   "execution_count": 71,
   "metadata": {},
   "outputs": [],
   "source": [
    "num_columns = [\"age\", \"trestbps\", \"chol\", \"thalach\", \"oldpeak\"]\n",
    "cat_columns = [\"sex\",\"cp\", \"fbs\", \"restecg\", \"exang\", \"slope\", \"ca\", \"thal\"]\n",
    "\n",
    "def transform(df):\n",
    "    scalers = []\n",
    "    \n",
    "    for c in num_columns:\n",
    "         # VectorAssembler Transformation - convierte columna en un vector\n",
    "        scalers.append(VectorAssembler(inputCols=[c],outputCol=c+\"_vect\"))\n",
    "        \n",
    "        # Estandarizamos las variables númericas discretas\n",
    "        scalers.append(\n",
    "            StandardScaler(\n",
    "                inputCol=c+\"_vect\", \n",
    "                outputCol=c+\"_scaled\",\n",
    "                withStd=True, \n",
    "                withMean=False)\n",
    "        )\n",
    "        \n",
    "    #realizamos one-hot encoding de las variables categóricas\n",
    "    for c in cat_columns:\n",
    "        def to_array(col):\n",
    "            \"\"\"\n",
    "            https://stackoverflow.com/questions/38384347/how-to-split-vector-into-columns-using-pyspark\n",
    "            \"\"\"\n",
    "            def to_array_(v):\n",
    "                return v.toArray().tolist()\n",
    "            return udf(to_array_, ArrayType(DoubleType()))(col)\n",
    "        \n",
    "        # TODO: mejorar, muy lento pasar de DF to RDD\n",
    "        values = df.select(c).distinct().rdd.map(lambda r: r[0]).collect()\n",
    "        for v in values:\n",
    "            df = df.withColumn(\"{}_{}\".format(c,v), when(df[c] == v, 1).otherwise(0))\n",
    "                \n",
    "    # aplicamos el escalamiento\n",
    "    num_pipe = Pipeline(stages=scalers)\n",
    "    df = num_pipe.fit(df).transform(df)\n",
    "\n",
    "    # quitamos la vectorizacion\n",
    "    scaled_columns = list(filter(lambda a: \"_scaled\" in a, df.columns))\n",
    "    def get_first(col):\n",
    "        def index(v):\n",
    "            return float(v[0])\n",
    "        return udf(index, FloatType())(col)\n",
    "\n",
    "    for c in scaled_columns:\n",
    "        df = df.withColumn(c, get_first(c))\n",
    "\n",
    "    # obtenemos las nuevas columnas categoricas\n",
    "    new_columns = list(filter(lambda a: (\"_\" in a) and (\"vect\" not in a), df.columns))\n",
    "    \n",
    "    # creamos una nueva columna tipo vector con las features que nuestro modelo usará\n",
    "    feature_assembler = vec_assembler = VectorAssembler(\n",
    "        inputCols= new_columns, \n",
    "        outputCol='features'\n",
    "    )\n",
    "    \n",
    "    # agregamos target\n",
    "    df = df.withColumn(\"label\", df.target)\n",
    "\n",
    "    return feature_assembler.transform(df).select(\"features\", \"label\"), new_columns"
   ]
  },
  {
   "cell_type": "code",
   "execution_count": 72,
   "metadata": {},
   "outputs": [],
   "source": [
    "df, features = transform(df)"
   ]
  },
  {
   "cell_type": "markdown",
   "metadata": {},
   "source": [
    "Mllib necesita que las features con las que se entrenará el modelo, se encuentren en un VectorDense y tengan el nombre `features`, también debe tener la columna `label` que indica el valor a clasificar del modelo.\n",
    "________\n"
   ]
  },
  {
   "cell_type": "markdown",
   "metadata": {},
   "source": [
    "## Model Training and Evaluation\n",
    "Mllib ofrece modelos para clasificación, regresion, clustering, reglas (interesante para ver items frecuentes). También tiene capacidades para realizar tuning de hiperparámetros y evaluación de los mismos.\n",
    "\n",
    "Se realizará la evaluación con una métrica que se utiliza en Clasificación: Curva roc-auc.\n",
    "La métrica corresponde a valores entre 0 y 1, 1 indica una buena clasificación."
   ]
  },
  {
   "cell_type": "code",
   "execution_count": 73,
   "metadata": {},
   "outputs": [],
   "source": [
    "import pyspark.ml.evaluation as evals"
   ]
  },
  {
   "cell_type": "code",
   "execution_count": 73,
   "metadata": {},
   "outputs": [],
   "source": [
    "# Create a BinaryClassificationEvaluator\n",
    "evaluator = evals.BinaryClassificationEvaluator(metricName=\"areaUnderROC\")"
   ]
  },
  {
   "cell_type": "code",
   "execution_count": 74,
   "metadata": {},
   "outputs": [],
   "source": [
    "from pyspark.ml.classification import DecisionTreeClassifier, RandomForestClassifier, GBTClassifier"
   ]
  },
  {
   "cell_type": "code",
   "execution_count": 75,
   "metadata": {},
   "outputs": [],
   "source": [
    "# separamos nuestro dataset en train y test\n",
    "train, test = df.randomSplit([0.66, 0.33])"
   ]
  },
  {
   "cell_type": "markdown",
   "metadata": {},
   "source": [
    "Vamos a realizar la prueba con 3 arboles, aunque Pyspark posee más modelos de clasificación.\n",
    "- DecisionTree: un simple arbol de clasificación\n",
    "- RandomForest: un bosque que utiliza la técnica de bagging\n",
    "- GBT o GradientBoosting: un bosque que utiliza la técnica de boosting\n",
    "    \n",
    "[Diferencia entre Bagging y Boosting](https://quantdare.com/what-is-the-difference-between-bagging-and-boosting/)"
   ]
  },
  {
   "cell_type": "code",
   "execution_count": 171,
   "metadata": {},
   "outputs": [],
   "source": [
    "# instanciamos nuestros modelos con los parámetros default\n",
    "dt = DecisionTreeClassifier()\n",
    "rf = RandomForestClassifier()\n",
    "gbt = GBTClassifier()"
   ]
  },
  {
   "cell_type": "code",
   "execution_count": 172,
   "metadata": {},
   "outputs": [
    {
     "name": "stdout",
     "output_type": "stream",
     "text": [
      "====================================================================================================\n",
      "DecisionTreeClassifier - Bias: 0.9805312566673778\n",
      "DecisionTreeClassifier - Variance: 0.7566964285714285\n",
      "====================================================================================================\n",
      "RandomForestClassifier - Bias: 0.9932792831235333\n",
      "RandomForestClassifier - Variance: 0.8701923076923077\n",
      "====================================================================================================\n",
      "GBTClassifier - Bias: 1.0\n",
      "GBTClassifier - Variance: 0.7292239010989012\n"
     ]
    }
   ],
   "source": [
    "# realizaremos unas pruebas simples inicialmente\n",
    "# por cada modelo, vamos a entrenar con los parámetros default, verificando el bias - variance tradeoff\n",
    "models = []\n",
    "for m  in [dt, rf, gbt]:\n",
    "    \n",
    "    # train model\n",
    "    model = m.fit(train)\n",
    "    \n",
    "    # make predictions\n",
    "    train_pred = model.transform(train)\n",
    "    test_pred = model.transform(test)\n",
    "    \n",
    "    print(100*\"=\")\n",
    "    print(\"{} - Bias: {}\".format(m.__class__.__name__, evaluator.evaluate(train_pred)))\n",
    "    print(\"{} - Variance: {}\".format(m.__class__.__name__, evaluator.evaluate(test_pred)))\n",
    "    \n",
    "    models.append(model)"
   ]
  },
  {
   "cell_type": "markdown",
   "metadata": {},
   "source": [
    "Como podemos observar, nuestros modelos tienen una buena performance con respecto a nuestro dataset de train, pero la performance en el dataset de test es más baja. Esto es un comportamiento esperable, ya que hay datos en la muestra los cuales no conoce, similar a lo que ocurriría en un escenario real.\n",
    "\n",
    "Cuando nuestro modelo detecta correctamente nuestros datos de train, pero no detecta bien nuestros datos de test decimos que estamos \"sobreentrenados\" ó \"high bias\".\n",
    "\n",
    "Este comportamiento es una propiedad estadística donde si mejoramos nuestro \"bias\" o sesgo con los datos de train, nos estamos \"memorizando\" nuestro dataset. El problema, es que el modelo no puede \"generalizar\", es decir no puede predecir correctamente sobre datos que nunca vió (dataset de test).\n",
    "\n",
    "Tenemos que encontrar hiperparámetros que nos permitan mejorar la predicción en train, y luego `regularizarlo` para que los datos en test tengan una mala predicción (lo que se suele decir High Variance).\n",
    "\n",
    "[Bias-variance tradeoff](https://en.wikipedia.org/wiki/Bias%E2%80%93variance_tradeoff)  \n",
    "\n",
    "Los modelos de árboles retornan la importancia (peso) que le dieron a cada columna para las predicciones.\n",
    "Graficamos los mismos para cada modelo, y verificar que importancia le dieron a cada una."
   ]
  },
  {
   "cell_type": "code",
   "execution_count": 137,
   "metadata": {},
   "outputs": [],
   "source": [
    "def plot_feature_importance(importances, features, top_n = 15, title=\"Feature Importances\"):\n",
    "    \"\"\"\n",
    "    Imprime un gráfico de barras horizontal que indica la importancia de las features.\n",
    "    \"\"\"\n",
    "    feat_imp = pd.DataFrame({'importance':importances})    \n",
    "    feat_imp['feature'] = features\n",
    "    feat_imp.sort_values(by='importance', ascending=False, inplace=True)\n",
    "    feat_imp = feat_imp.iloc[:top_n]\n",
    "    \n",
    "    feat_imp.sort_values(by='importance', inplace=True)\n",
    "    feat_imp = feat_imp.set_index('feature', drop=True)\n",
    "    feat_imp.plot.barh(title=title, figsize=(10,6))\n",
    "    plt.xlabel('Feature Importance Score')\n",
    "    plt.show()"
   ]
  },
  {
   "cell_type": "code",
   "execution_count": 138,
   "metadata": {},
   "outputs": [
    {
     "data": {
      "image/png": "[encoded data removed]",
      "text/plain": [
       "<Figure size 720x432 with 1 Axes>"
      ]
     },
     "metadata": {
      "needs_background": "light"
     },
     "output_type": "display_data"
    },
    {
     "data": {
      "image/png": "[encoded data removed]",
      "text/plain": [
       "<Figure size 720x432 with 1 Axes>"
      ]
     },
     "metadata": {
      "needs_background": "light"
     },
     "output_type": "display_data"
    },
    {
     "data": {
      "image/png": "[encoded data removed]",
      "text/plain": [
       "<Figure size 720x432 with 1 Axes>"
      ]
     },
     "metadata": {
      "needs_background": "light"
     },
     "output_type": "display_data"
    }
   ],
   "source": [
    "for m in models:\n",
    "    plot_feature_importance(m.featureImportances.toArray(), features, title=m.__class__.__name__)"
   ]
  },
  {
   "cell_type": "markdown",
   "metadata": {},
   "source": [
    "Si observamos, nuestros modelos le dieron pesos similares a ciertas características. \n",
    "Podríamos utilizar algunos elementos estadísticos para quitar ciertas características, pero por ahora vamos a seguir trabajando con todas. \n",
    "\n",
    "Continuamos el análisis con RandomForest, ya que es el modelo que se encuentra en medio para mejorar en train y en test, y seguir practicando con la librería."
   ]
  },
  {
   "cell_type": "markdown",
   "metadata": {},
   "source": [
    "> **Nota: Podríamos utilizar DecisionTree. GBT tiende a overfitear y solo tendríamos que regularizarlo.**\n",
    "______________"
   ]
  },
  {
   "cell_type": "markdown",
   "metadata": {},
   "source": [
    "Nota: para ver la estructura del árbol descomentar la siguiente linea\n",
    "[ver](https://img-9gag-fun.9cache.com/photo/aOYA1mE_700bwp.webp)"
   ]
  },
  {
   "cell_type": "code",
   "execution_count": 143,
   "metadata": {},
   "outputs": [],
   "source": [
    "# rf.fit(train).toDebugString"
   ]
  },
  {
   "cell_type": "markdown",
   "metadata": {},
   "source": [
    "_______"
   ]
  },
  {
   "cell_type": "markdown",
   "metadata": {},
   "source": [
    "## Tuning de nuestro modelo\n",
    "\n",
    "Estadisticamente, hay varias maneras de entrenar/tunear/testear un modelo de ML:\n",
    "- podemos hacer hold-out, dividir el segmento en 3, uno para train y validation; otro para test.\n",
    "- podemos hacer cross-validation\n",
    "    - dividir el dataset en k partes \n",
    "    - entrenar el modelo con k-1 partes\n",
    "    - testearlo con la parte que guardamos\n",
    "    - iteramos para que cada parte puede ser utilizada como test.\n",
    "    - la métrica del modelo corresponde a todas las provista por los datos no vistos.\n",
    "    \n",
    "Mllib posee abstracciones para ambos mecanismos: TrainValidationSplit y CrossValidator. \n",
    "\n",
    "- ParamGridBuilder nos permite generar una grilla de hiperparámetros para testear\n",
    "- Las clases de tuning reciben de parámetros:\n",
    "    - estimator: nuestro modelo \n",
    "    - estimatorParamMaps: la grilla generada por ParamGridBuilder\n",
    "    - evaluator: un evaluator, en nuestro caso ROC-AUC"
   ]
  },
  {
   "cell_type": "code",
   "execution_count": 153,
   "metadata": {},
   "outputs": [],
   "source": [
    "from pyspark.ml.tuning import ParamGridBuilder, CrossValidator"
   ]
  },
  {
   "cell_type": "code",
   "execution_count": 272,
   "metadata": {},
   "outputs": [],
   "source": [
    "rf = RandomForestClassifier()\n",
    "\n",
    "grid = (\n",
    "    ParamGridBuilder()\n",
    "    .addGrid(rf.maxDepth, [3, 4, 5, 6]) # profundidad: regularization\n",
    "    .addGrid(rf.numTrees, [10, 20, 50, 80, 100, 150 ]) # arboles\n",
    "    .addGrid(rf.subsamplingRate, [0.8]) # validation split\n",
    "    .build()\n",
    ")"
   ]
  },
  {
   "cell_type": "markdown",
   "metadata": {},
   "source": [
    "La grilla trabaja por fuerza bruta: prueba todas las combinaciones de hiperparámetros:"
   ]
  },
  {
   "cell_type": "code",
   "execution_count": 296,
   "metadata": {},
   "outputs": [
    {
     "data": {
      "text/plain": [
       "'cantidad de combinaciones: 24'"
      ]
     },
     "execution_count": 296,
     "metadata": {},
     "output_type": "execute_result"
    }
   ],
   "source": [
    "\"cantidad de combinaciones: {}\".format(len(grid))"
   ]
  },
  {
   "cell_type": "code",
   "execution_count": 273,
   "metadata": {},
   "outputs": [],
   "source": [
    "cv = CrossValidator(\n",
    "    estimator=rf,\n",
    "    estimatorParamMaps=grid,\n",
    "    evaluator=evaluator,\n",
    "    collectSubModels=True,\n",
    "    numFolds=3\n",
    "#     seed=12345\n",
    ")"
   ]
  },
  {
   "cell_type": "code",
   "execution_count": 274,
   "metadata": {},
   "outputs": [],
   "source": [
    "model = cv.fit(train)"
   ]
  },
  {
   "cell_type": "code",
   "execution_count": 273,
   "metadata": {},
   "outputs": [],
   "source": [
    "cv generará un modelo para cada combinación de la grilla, y por dicho modelo realizará las siguientes prueba:\n",
    "- dividir el dataset de train en 3 (folds)\n",
    "- tomar 2, entrenar, evaluar con el restante (validation fold)\n",
    "- repetir hasta haber evaluado con cada fold no visto."
   ]
  },
  {
   "cell_type": "code",
   "execution_count": 297,
   "metadata": {},
   "outputs": [
    {
     "data": {
      "text/plain": [
       "'Cantidad de submodelos almacenados: 72'"
      ]
     },
     "execution_count": 297,
     "metadata": {},
     "output_type": "execute_result"
    }
   ],
   "source": [
    "\"Cantidad de submodelos almacenados: {}\".format(np.array(model.subModels).size)"
   ]
  },
  {
   "cell_type": "markdown",
   "metadata": {},
   "source": [
    "Si analizamos el modelo viejo, los paramétros default son: \n",
    "- numTrees = 20,\n",
    "- subsampling = 1, \n",
    "- maxDepth=5\n",
    "\n",
    "El cual se encuentra entre las combinaciones posibles de la grilla. \n",
    "(lo traemos para comparar)"
   ]
  },
  {
   "cell_type": "code",
   "execution_count": 299,
   "metadata": {},
   "outputs": [],
   "source": [
    "old_model = models[1]"
   ]
  },
  {
   "cell_type": "markdown",
   "metadata": {},
   "source": [
    "Evaluamos el mejor modelo en test y verificamos contra el viejo:"
   ]
  },
  {
   "cell_type": "code",
   "execution_count": 304,
   "metadata": {},
   "outputs": [
    {
     "data": {
      "text/plain": [
       "(0.9639428205675264, 0.9932792831235333)"
      ]
     },
     "execution_count": 304,
     "metadata": {},
     "output_type": "execute_result"
    }
   ],
   "source": [
    "# En el dataset de train\n",
    "evaluator.evaluate(model.transform(train)), evaluator.evaluate(old_model.transform(train)) "
   ]
  },
  {
   "cell_type": "markdown",
   "metadata": {},
   "source": [
    "Observamos que tenemos una peor performance con respecto al modelo con los parámetros default con respecto al dataset de train.\n",
    "\n",
    "Esto podrían ser dos sintomas: que el modelo no está overfitteado (bueno), o que está underfit (malo).\n",
    "\n",
    "En este caso, la métrica es buena (96%)\n",
    "\n",
    "Lo más importante, verificar con los datos que el modelo aún no vio:"
   ]
  },
  {
   "cell_type": "code",
   "execution_count": 305,
   "metadata": {},
   "outputs": [
    {
     "data": {
      "text/plain": [
       "(0.8870192307692308, 0.8701923076923077)"
      ]
     },
     "execution_count": 305,
     "metadata": {},
     "output_type": "execute_result"
    }
   ],
   "source": [
    "# En el dataset de test\n",
    "evaluator.evaluate(model.transform(test)), evaluator.evaluate(old_model.transform(test)) "
   ]
  },
  {
   "cell_type": "markdown",
   "metadata": {},
   "source": [
    "Como vemos, el modelo tiene una mejor performance en los datos que aún no vio, con respecto al modelo anterior.\n",
    "\n",
    "Esto es un buen sintoma, pero hemos perdido 3% con el dataset de train (bias error) para sumar solo 1% en el dataset de test.\n",
    "\n",
    "Realizamos la prueba de comportamiento general del modelo, evaluando con todos los datos:"
   ]
  },
  {
   "cell_type": "code",
   "execution_count": 317,
   "metadata": {},
   "outputs": [
    {
     "data": {
      "text/plain": [
       "(0.9369784804567401, 0.9589811155028545)"
      ]
     },
     "execution_count": 317,
     "metadata": {},
     "output_type": "execute_result"
    }
   ],
   "source": [
    "# En todo el dataset\n",
    "pred_all = model.transform(df)\n",
    "evaluator.evaluate(pred_all), evaluator.evaluate(old_model.transform(df))"
   ]
  },
  {
   "cell_type": "markdown",
   "metadata": {},
   "source": [
    "La predicción general del modelo para el dataset entero es del 93.69 %, un poco más baja que para el modelo default.\n",
    "\n",
    "Normalmente en ML se suele volver a entrenar todo el dataset con todos los datos para realizar esta prediccion. Obtenemos los mejores parámetros y volvemos a entrenar con el dataset completo.\n"
   ]
  },
  {
   "cell_type": "markdown",
   "metadata": {},
   "source": [
    "Por defecto, CrossValidator almacena el mejor modelo, cuando realizamos `transform` lo utiliza para devolvernos nuestras predicciones.\n",
    "\n",
    "Un atajo para utilizarlo es llamar a la property `bestModel`"
   ]
  },
  {
   "cell_type": "code",
   "execution_count": 321,
   "metadata": {},
   "outputs": [
    {
     "data": {
      "text/plain": [
       "0.8870192307692308"
      ]
     },
     "execution_count": 321,
     "metadata": {},
     "output_type": "execute_result"
    }
   ],
   "source": [
    "evaluator.evaluate(model.bestModel.transform(test))"
   ]
  },
  {
   "cell_type": "markdown",
   "metadata": {},
   "source": [
    "Podemos obtener los parámetros con los cuales se entrenó el mejor modelo, y almacenarlos:"
   ]
  },
  {
   "cell_type": "code",
   "execution_count": 322,
   "metadata": {},
   "outputs": [],
   "source": [
    "def get_best_parameters(cvModel):\n",
    "    \"\"\"\n",
    "    Retorna los parametros de entrenamiento del mejor modelo\n",
    "    \"\"\"\n",
    "    params = cvModel.bestModel.extractParamMap().items()\n",
    "    return { k.name: v for k,v in params }\n"
   ]
  },
  {
   "cell_type": "code",
   "execution_count": 327,
   "metadata": {},
   "outputs": [
    {
     "data": {
      "text/plain": [
       "(100, 3)"
      ]
     },
     "execution_count": 327,
     "metadata": {},
     "output_type": "execute_result"
    }
   ],
   "source": [
    "params = get_best_parameters(model)\n",
    "params['numTrees'], params[\"maxDepth\"]"
   ]
  },
  {
   "cell_type": "markdown",
   "metadata": {},
   "source": [
    "Y podríamos entrenar un nuevo modelo con los mismos:"
   ]
  },
  {
   "cell_type": "code",
   "execution_count": 363,
   "metadata": {},
   "outputs": [
    {
     "data": {
      "text/plain": [
       "0.9440931049626691"
      ]
     },
     "execution_count": 363,
     "metadata": {},
     "output_type": "execute_result"
    }
   ],
   "source": [
    "final_model = RandomForestClassifier(**params).fit(df)\n",
    "evaluator.evaluate(\n",
    "    final_model\n",
    "    .transform(df)\n",
    ")"
   ]
  },
  {
   "cell_type": "markdown",
   "metadata": {},
   "source": [
    "Obtenemos un 94% en la métrica de clasificación, lo cual no es un mal número. \n",
    "\n",
    "Además, sabemos que nuestro estimador no está overfiteado, y se adapta mejor a los resultados que aún no ha visto."
   ]
  },
  {
   "cell_type": "markdown",
   "metadata": {},
   "source": [
    "El modelo retorna la probabilidad de la clase la cual predijo en la columna `predictions`.\n",
    "Lo que podemos hacer es graficar un histograma / diagrama de densidad, para ver la distribución.\n",
    "Esto nos mostraría con que seguridad nuestro modelo tiende a predecir una etiqueta:"
   ]
  },
  {
   "cell_type": "code",
   "execution_count": 358,
   "metadata": {},
   "outputs": [],
   "source": [
    "def get_prob(arr, disease):\n",
    "    \"\"\"\n",
    "    0: no disease\n",
    "    1: disease\n",
    "    \"\"\"\n",
    "    return list(map(lambda a: a['probability'].toArray()[disease], arr))\n",
    "\n",
    "disease_prob = get_prob(model.bestModel.transform(test).filter(\"prediction == 1\").select(\"probability\").collect(), 0)\n",
    "no_disease_prob = get_prob(model.bestModel.transform(test).filter(\"prediction == 0\").select(\"probability\").collect(),1)"
   ]
  },
  {
   "cell_type": "code",
   "execution_count": 359,
   "metadata": {},
   "outputs": [
    {
     "data": {
      "text/plain": [
       "<matplotlib.axes._subplots.AxesSubplot at 0x7eff54650208>"
      ]
     },
     "execution_count": 359,
     "metadata": {},
     "output_type": "execute_result"
    },
    {
     "data": {
      "image/png": "[encoded data removed]",
      "text/plain": [
       "<Figure size 432x288 with 1 Axes>"
      ]
     },
     "metadata": {
      "needs_background": "light"
     },
     "output_type": "display_data"
    }
   ],
   "source": [
    "sns.distplot(disease_prob, bins=15)"
   ]
  },
  {
   "cell_type": "markdown",
   "metadata": {},
   "source": [
    "Se puede observar que este modelo no tiene mucha \"seguridad\" a la hora de elegir la etiqueta \"sano\". Su distribución de probabilidad tiende a ser baja."
   ]
  },
  {
   "cell_type": "code",
   "execution_count": 360,
   "metadata": {},
   "outputs": [
    {
     "data": {
      "text/plain": [
       "<matplotlib.axes._subplots.AxesSubplot at 0x7eff5461e4a8>"
      ]
     },
     "execution_count": 360,
     "metadata": {},
     "output_type": "execute_result"
    },
    {
     "data": {
      "image/png": "[encoded data removed]",
      "text/plain": [
       "<Figure size 432x288 with 1 Axes>"
      ]
     },
     "metadata": {
      "needs_background": "light"
     },
     "output_type": "display_data"
    }
   ],
   "source": [
    "sns.distplot(no_disease_prob, bins=15)"
   ]
  },
  {
   "cell_type": "markdown",
   "metadata": {},
   "source": [
    "Como podemos observar, este modelo tiene mayor seguridad al etiquetar a un paciente como \"enfermo\". Su distribución de probabilidad tiende a ser alta."
   ]
  },
  {
   "cell_type": "markdown",
   "metadata": {},
   "source": [
    "## Reutilizando nuestro modelo\n",
    "Podemos guardar nuestro modelo para recuperarlo luego:"
   ]
  },
  {
   "cell_type": "code",
   "execution_count": 395,
   "metadata": {},
   "outputs": [],
   "source": [
    "from datetime import datetime\n",
    "now = datetime.now().strftime(\"%m-%m-%Y_%H-%M-%S\") #no acepta \":\"\n",
    "path= \"./models/rf__{}\".format(now)\n",
    "final_model.save(path)"
   ]
  },
  {
   "cell_type": "code",
   "execution_count": 396,
   "metadata": {},
   "outputs": [],
   "source": [
    "from pyspark.ml.classification import RandomForestClassificationModel\n",
    "rf2 = RandomForestClassificationModel.load(path)"
   ]
  },
  {
   "cell_type": "markdown",
   "metadata": {},
   "source": [
    "### Notas\n",
    "- En el dataset en kaggle dice que 1 es sano y 0 enfermo. En UCI dice 1 enfermo y 0 es sano.\n",
    "- Tomamos lo que dice en kaggle, aunque estuve intentando contactar al que escribió para corroborar:\n",
    "    [Dataset Kaggle](https://www.kaggle.com/ronitf/heart-disease-uci/discussion/105877)\n"
   ]
  },
  {
   "cell_type": "code",
   "execution_count": null,
   "metadata": {},
   "outputs": [],
   "source": []
  }
 ],
 "metadata": {
  "kernelspec": {
   "display_name": "Python 3",
   "language": "python",
   "name": "python3"
  },
  "language_info": {
   "codemirror_mode": {
    "name": "ipython",
    "version": 3
   },
   "file_extension": ".py",
   "mimetype": "text/x-python",
   "name": "python",
   "nbconvert_exporter": "python",
   "pygments_lexer": "ipython3",
   "version": "3.5.3"
  }
 },
 "nbformat": 4,
 "nbformat_minor": 4
}
